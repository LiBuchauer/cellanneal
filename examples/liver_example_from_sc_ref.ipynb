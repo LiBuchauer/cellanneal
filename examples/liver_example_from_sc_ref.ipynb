{
 "cells": [
  {
   "cell_type": "markdown",
   "metadata": {},
   "source": [
    "## Cell Anneal Example, starting from single cell reference\n",
    "- example data used is healthy liver LCM and Hassan's liver single cells"
   ]
  },
  {
   "cell_type": "code",
   "execution_count": 1,
   "metadata": {},
   "outputs": [],
   "source": [
    "import numpy as np\n",
    "import matplotlib as mpl\n",
    "import matplotlib.pyplot as plt\n",
    "import seaborn as sns\n",
    "import pandas as pd\n",
    "\n",
    "from cellanneal import make_gene_dictionary\n",
    "from cellanneal import deconvolve\n",
    "from cellanneal import plot_pies_from_df, plot_mix_heatmap, plot_1D_lines, plot_repeats, plot_scatter\n",
    "from cellanneal import repeat_annealing"
   ]
  },
  {
   "cell_type": "code",
   "execution_count": 4,
   "metadata": {},
   "outputs": [],
   "source": [
    "# data paths\n",
    "# if you want to run on Windows, you need to fix the beginning of all paths below (\"X:\" etc)\n",
    "# export paths\n",
    "sc_ref_import_path = \"/Users/lisa/X/lisabu/sim_anneal_deconvolution/cellanneal/cellanneal/examples/example_data/sc_ref_human_liver_patient5.csv\"\n",
    "bulk_import_path = \"/Users/lisa/X/lisabu/sim_anneal_deconvolution/cellanneal/cellanneal/examples/example_data/bulk_human_liver_tumor_patient5.csv\""
   ]
  },
  {
   "cell_type": "code",
   "execution_count": 5,
   "metadata": {},
   "outputs": [],
   "source": [
    "# import single cell based reference\n",
    "sc_ref_df = pd.read_csv(sc_ref_import_path, index_col=0)"
   ]
  },
  {
   "cell_type": "code",
   "execution_count": null,
   "metadata": {},
   "outputs": [],
   "source": [
    "# import bulk data\n",
    "bulk_df = pd.read_csv(bulk_import_path, index_col=0)"
   ]
  },
  {
   "cell_type": "code",
   "execution_count": null,
   "metadata": {},
   "outputs": [],
   "source": [
    "# produce lists of genes on which to base deconvolution\n",
    "gene_dict = make_gene_dictionary(\n",
    "                    sc_ref_df,\n",
    "                    bulk_df,\n",
    "                    disp_min=0.5,\n",
    "                    bulk_min=1e-5,\n",
    "                    bulk_max=0.01,\n",
    "                    remove_mito=True)"
   ]
  },
  {
   "cell_type": "markdown",
   "metadata": {},
   "source": [
    "### B) CellAnneal - using individual functions, no spatial connection"
   ]
  },
  {
   "cell_type": "code",
   "execution_count": null,
   "metadata": {},
   "outputs": [],
   "source": [
    "all_mix_df = deconvolve(sc_ref_df=sc_ref_df,\n",
    "                     bulk_df=bulk_df,\n",
    "                     maxiter=500,\n",
    "                     gene_dict=gene_dict,\n",
    "                     no_local_search=True)"
   ]
  },
  {
   "cell_type": "code",
   "execution_count": null,
   "metadata": {},
   "outputs": [],
   "source": [
    "# plot results\n",
    "plot_pies_from_df(all_mix_df)\n",
    "plot_mix_heatmap(all_mix_df, rownorm=False)\n",
    "plot_1D_lines(all_mix_df)\n",
    "plot_scatter(all_mix_df, bulk_df, sc_ref_df, gene_dict)"
   ]
  },
  {
   "cell_type": "code",
   "execution_count": null,
   "metadata": {},
   "outputs": [],
   "source": [
    "t_repeat = repeat_annealing(sc_ref_df, bulk_df, gene_dict, no_local_search=True, n=10,\n",
    "                                  maxiter=10, save_path='results/repeat_separate_no_local_search_std_genes_maxiter1000.xlsx')"
   ]
  },
  {
   "cell_type": "code",
   "execution_count": null,
   "metadata": {},
   "outputs": [],
   "source": [
    "plot_repeats(t_repeat, kind='box', save_path='figures/box_repeat_separate_no_local_search_std_genes_maxiter1000.pdf')"
   ]
  },
  {
   "cell_type": "code",
   "execution_count": null,
   "metadata": {},
   "outputs": [],
   "source": []
  }
 ],
 "metadata": {
  "kernelspec": {
   "display_name": "Python 3",
   "language": "python",
   "name": "python3"
  },
  "language_info": {
   "codemirror_mode": {
    "name": "ipython",
    "version": 3
   },
   "file_extension": ".py",
   "mimetype": "text/x-python",
   "name": "python",
   "nbconvert_exporter": "python",
   "pygments_lexer": "ipython3",
   "version": "3.7.6"
  }
 },
 "nbformat": 4,
 "nbformat_minor": 4
}
