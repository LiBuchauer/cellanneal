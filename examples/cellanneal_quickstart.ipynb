{
 "cells": [
  {
   "cell_type": "markdown",
   "metadata": {},
   "source": [
    "## cellanneal QuickStart\n",
    "The example uses a subset of data from Massalha et al., 2020 (https://doi.org/10.15252/msb.20209682)."
   ]
  },
  {
   "cell_type": "code",
   "execution_count": 1,
   "metadata": {},
   "outputs": [],
   "source": [
    "import pandas as pd\n",
    "import cellanneal"
   ]
  },
  {
   "cell_type": "markdown",
   "metadata": {},
   "source": [
    "#### 1) Import mixture and signature data into pandas DataFrames"
   ]
  },
  {
   "cell_type": "code",
   "execution_count": 2,
   "metadata": {},
   "outputs": [],
   "source": [
    "# data paths, provide paths to the data on your system\n",
    "# example paths are from MacOS, for Windows use backslash\n",
    "mixture_path = \"example_data/mixture_data_liver_tumor.csv\"\n",
    "signature_path = \"example_data/signature_data_human_liver.csv\""
   ]
  },
  {
   "cell_type": "code",
   "execution_count": 3,
   "metadata": {},
   "outputs": [],
   "source": [
    "# import bulk data\n",
    "mixture_df = pd.read_csv(mixture_path, index_col=0)"
   ]
  },
  {
   "cell_type": "code",
   "execution_count": 4,
   "metadata": {},
   "outputs": [],
   "source": [
    "# import single-cell based signature data\n",
    "signature_df = pd.read_csv(signature_path, index_col=0)"
   ]
  },
  {
   "cell_type": "code",
   "execution_count": 5,
   "metadata": {},
   "outputs": [
    {
     "data": {
      "text/plain": [
       "['1_non_malignant_core',\n",
       " '2_non_malignant_border',\n",
       " '3_malignant_border',\n",
       " '4_malignant_core',\n",
       " '5_malignant_collagen']"
      ]
     },
     "execution_count": 5,
     "metadata": {},
     "output_type": "execute_result"
    }
   ],
   "source": [
    "# inspect sample names\n",
    "list(mixture_df.columns)"
   ]
  },
  {
   "cell_type": "code",
   "execution_count": 6,
   "metadata": {},
   "outputs": [
    {
     "data": {
      "text/plain": [
       "['B cells',\n",
       " 'CAFs',\n",
       " 'Cholangiocyte',\n",
       " 'Hepatocytes',\n",
       " 'Kupffer cells',\n",
       " 'LSEC',\n",
       " 'LVEC',\n",
       " 'LVECm',\n",
       " 'Myofibroblasts',\n",
       " 'Pericytes',\n",
       " 'Proliferation',\n",
       " 'SAMs',\n",
       " 'Stellate cells',\n",
       " 'T cells_far',\n",
       " 'T cells_tumor',\n",
       " 'TM1',\n",
       " 'cDC1',\n",
       " 'cDC2',\n",
       " 'Carcinoma']"
      ]
     },
     "execution_count": 6,
     "metadata": {},
     "output_type": "execute_result"
    }
   ],
   "source": [
    "# inspect cell type names names\n",
    "list(signature_df.columns)"
   ]
  },
  {
   "cell_type": "markdown",
   "metadata": {},
   "source": [
    "#### 2) Identify gene sets for deconvolution"
   ]
  },
  {
   "cell_type": "code",
   "execution_count": 7,
   "metadata": {},
   "outputs": [
    {
     "name": "stdout",
     "output_type": "stream",
     "text": [
      "3715 highly variable genes identified in cell type\n",
      "        reference.\n",
      "\t2413 of these are within thresholds for sample 1_non_malignant_core\n",
      "\t2496 of these are within thresholds for sample 2_non_malignant_border\n",
      "\t2751 of these are within thresholds for sample 3_malignant_border\n",
      "\t2671 of these are within thresholds for sample 4_malignant_core\n",
      "\t2515 of these are within thresholds for sample 5_malignant_collagen\n"
     ]
    }
   ],
   "source": [
    "# produce lists of genes on which to base deconvolution\n",
    "# choose minimum dispersion and min and max expression here\n",
    "gene_dict = cellanneal.make_gene_dictionary(\n",
    "                    signature_df,\n",
    "                    mixture_df,\n",
    "                    disp_min=0.5,\n",
    "                    bulk_min=1e-5,\n",
    "                    bulk_max=0.01)"
   ]
  },
  {
   "cell_type": "markdown",
   "metadata": {},
   "source": [
    "#### 3) Run cellanneal deconvolution"
   ]
  },
  {
   "cell_type": "code",
   "execution_count": null,
   "metadata": {},
   "outputs": [
    {
     "name": "stdout",
     "output_type": "stream",
     "text": [
      "Deconvolving sample 1 of 5 (1_non_malignant_core) ...\n",
      "Deconvolving sample 2 of 5 (2_non_malignant_border) ...\n",
      "Deconvolving sample 3 of 5 (3_malignant_border) ...\n"
     ]
    }
   ],
   "source": [
    "# run deconvolution, set parameters here\n",
    "all_mix_df = cellanneal.deconvolve(\n",
    "                signature_df,\n",
    "                mixture_df,\n",
    "                maxiter=1000,\n",
    "                gene_dict=gene_dict)"
   ]
  },
  {
   "cell_type": "markdown",
   "metadata": {},
   "source": [
    "#### 3b) Alternative: gene set identification and deconvolution in one step"
   ]
  },
  {
   "cell_type": "code",
   "execution_count": null,
   "metadata": {},
   "outputs": [],
   "source": [
    "all_mix_df = cellanneal.run_cellanneal(\n",
    "                signature_df,\n",
    "                mixture_df,\n",
    "                disp_min=0.5,\n",
    "                bulk_min=1e-5,\n",
    "                bulk_max=0.01,\n",
    "                maxiter=1000)"
   ]
  },
  {
   "cell_type": "markdown",
   "metadata": {},
   "source": [
    "#### 4) Plot cellanneal results"
   ]
  },
  {
   "cell_type": "code",
   "execution_count": null,
   "metadata": {},
   "outputs": [],
   "source": [
    "# plot results\n",
    "cellanneal.plot_pies(all_mix_df)\n",
    "cellanneal.plot_mix_heatmap(all_mix_df)\n",
    "cellanneal.plot_mix_heatmap_log(all_mix_df)\n",
    "cellanneal.plot_scatter(all_mix_df, mixture_df, signature_df, gene_dict)"
   ]
  },
  {
   "cell_type": "code",
   "execution_count": null,
   "metadata": {},
   "outputs": [],
   "source": []
  }
 ],
 "metadata": {
  "kernelspec": {
   "display_name": "Python 3",
   "language": "python",
   "name": "python3"
  },
  "language_info": {
   "codemirror_mode": {
    "name": "ipython",
    "version": 3
   },
   "file_extension": ".py",
   "mimetype": "text/x-python",
   "name": "python",
   "nbconvert_exporter": "python",
   "pygments_lexer": "ipython3",
   "version": "3.7.6"
  }
 },
 "nbformat": 4,
 "nbformat_minor": 4
}
